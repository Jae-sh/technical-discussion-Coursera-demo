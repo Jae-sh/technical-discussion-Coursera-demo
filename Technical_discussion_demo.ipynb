{
  "nbformat": 4,
  "nbformat_minor": 0,
  "metadata": {
    "colab": {
      "provenance": [],
      "authorship_tag": "ABX9TyNTEIiJQnNKK4lt6wqAaXCp",
      "include_colab_link": true
    },
    "kernelspec": {
      "name": "python3",
      "display_name": "Python 3"
    },
    "language_info": {
      "name": "python"
    }
  },
  "cells": [
    {
      "cell_type": "markdown",
      "metadata": {
        "id": "view-in-github",
        "colab_type": "text"
      },
      "source": [
        "<a href=\"https://colab.research.google.com/github/Jae-sh/technical-discussion-Coursera-demo/blob/main/Technical_discussion_demo.ipynb\" target=\"_parent\"><img src=\"https://colab.research.google.com/assets/colab-badge.svg\" alt=\"Open In Colab\"/></a>"
      ]
    },
    {
      "cell_type": "markdown",
      "source": [
        "#Main header#"
      ],
      "metadata": {
        "id": "Ev_hlxH5hFOF"
      }
    },
    {
      "cell_type": "code",
      "source": [
        "def hello():\n",
        "  return \"hi\"\n",
        "\n",
        "hello()"
      ],
      "metadata": {
        "colab": {
          "base_uri": "https://localhost:8080/",
          "height": 35
        },
        "id": "K8viOlq-hKEf",
        "outputId": "fd18c9a4-d8a9-41d8-87ce-7967f68316ef"
      },
      "execution_count": 1,
      "outputs": [
        {
          "output_type": "execute_result",
          "data": {
            "text/plain": [
              "'hi'"
            ],
            "application/vnd.google.colaboratory.intrinsic+json": {
              "type": "string"
            }
          },
          "metadata": {},
          "execution_count": 1
        }
      ]
    },
    {
      "cell_type": "markdown",
      "source": [
        "##EDA"
      ],
      "metadata": {
        "id": "e_JnC_7HhrHI"
      }
    },
    {
      "cell_type": "code",
      "source": [],
      "metadata": {
        "id": "221RROH-hvMS"
      },
      "execution_count": null,
      "outputs": []
    },
    {
      "cell_type": "markdown",
      "source": [
        "##Modeling"
      ],
      "metadata": {
        "id": "mPYHTEppht6N"
      }
    },
    {
      "cell_type": "code",
      "source": [],
      "metadata": {
        "id": "iLGGHf2ah1Og"
      },
      "execution_count": null,
      "outputs": []
    },
    {
      "cell_type": "markdown",
      "source": [
        "##Conclusion"
      ],
      "metadata": {
        "id": "9oj8tFyGh0P7"
      }
    },
    {
      "cell_type": "code",
      "source": [],
      "metadata": {
        "id": "4MWdi8I7h3JJ"
      },
      "execution_count": null,
      "outputs": []
    }
  ]
}